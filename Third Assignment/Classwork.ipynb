{
 "cells": [
  {
   "cell_type": "code",
   "execution_count": 8,
   "id": "d712e7d1",
   "metadata": {},
   "outputs": [
    {
     "name": "stdout",
     "output_type": "stream",
     "text": [
      "3\n",
      "4\n"
     ]
    }
   ],
   "source": [
    "def total(parameter):\n",
    "    return len(parameter)\n",
    "\n",
    "print(total([\"abe\", \"apc\", \"pop\"]))\n",
    "\n",
    "def totalNumber(values):\n",
    "    total = 0 \n",
    "    for value in values:\n",
    "        total += 1\n",
    "    return total\n",
    "\n",
    "print(totalNumber([\"abe\", \"apc\", \"pop\", \"pdp\"]))"
   ]
  },
  {
   "cell_type": "code",
   "execution_count": 7,
   "id": "a8318e2e",
   "metadata": {},
   "outputs": [
    {
     "name": "stdout",
     "output_type": "stream",
     "text": [
      "70\n",
      "70\n"
     ]
    }
   ],
   "source": [
    "def maxElement(integers):\n",
    "    greatest = integers[0]\n",
    "    for integer in integers:\n",
    "        if integer > greatest:\n",
    "            greatest = integer\n",
    "    return greatest\n",
    "\n",
    "print(maxElement([10,20,30,70,50,20]))\n",
    "\n",
    "\n",
    "def maxNumber(values):\n",
    "    return max(values)\n",
    "\n",
    "print(maxNumber([10,20,30,70,50,20]))"
   ]
  },
  {
   "cell_type": "code",
   "execution_count": 10,
   "id": "9291f95b",
   "metadata": {},
   "outputs": [
    {
     "name": "stdout",
     "output_type": "stream",
     "text": [
      "[20, 50, 70, 30, 20, 10]\n"
     ]
    }
   ],
   "source": [
    "def reversal(argument):\n",
    "    \n",
    "    return (list(reversed(argument)))\n",
    "\n",
    "print(reversal([10,20,30,70,50,20]))\n",
    "\n",
    "\n"
   ]
  },
  {
   "cell_type": "code",
   "execution_count": 26,
   "id": "5df5ebb6",
   "metadata": {},
   "outputs": [
    {
     "name": "stdout",
     "output_type": "stream",
     "text": [
      "[20, 50, 70, 30, 20, 10]\n"
     ]
    }
   ],
   "source": [
    "def rev(argument):\n",
    "    argument = argument[::-1]\n",
    "    return argument\n",
    "print(rev([10,20,30,70,50,20]))\n",
    "\n",
    "        "
   ]
  },
  {
   "cell_type": "code",
   "execution_count": 4,
   "id": "1dec76c2",
   "metadata": {},
   "outputs": [
    {
     "name": "stdout",
     "output_type": "stream",
     "text": [
      "200\n",
      "14\n",
      "\n",
      "200\n",
      "14\n"
     ]
    }
   ],
   "source": [
    "def summation(argument):\n",
    "    total = 0 \n",
    "    if type(argument) == list:\n",
    "        for arg in argument:\n",
    "            total += arg\n",
    "    else:\n",
    "        for arg in argument.values():\n",
    "            total += arg\n",
    "    return total \n",
    "\n",
    "print(summation([10,20,30,70,50,20]))\n",
    "\n",
    "print(summation({10:1, 20:2, 30:4, 40:7}))\n",
    "print()\n",
    "\n",
    "def summ(argument):\n",
    "    if type(argument) == list:\n",
    "        total = sum(argument)\n",
    "        \n",
    "    else:\n",
    "        total =  sum(argument.values())\n",
    "    return total\n",
    "\n",
    "print(summ([10,20,30,70,50,20]))\n",
    "print(summ({10:1, 20:2, 30:4, 40:7}))"
   ]
  },
  {
   "cell_type": "code",
   "execution_count": 7,
   "id": "5d87521b",
   "metadata": {},
   "outputs": [
    {
     "name": "stdout",
     "output_type": "stream",
     "text": [
      "Enter your username: adediran\n",
      "Enter your password: Chris\n",
      "You are welcome\n"
     ]
    }
   ],
   "source": [
    "\n",
    "username = \"adediran\"\n",
    "password = \"Chris\"\n",
    "\n",
    "while True:\n",
    "    \n",
    "    Username = input(\"Enter your username: \")\n",
    "    Password = input(\"Enter your password: \")\n",
    "    if Username != username or Password != password:\n",
    "        print(\"Username or Password incorrect\")\n",
    "    else:\n",
    "        #if Username == username and Password == password:\n",
    "        print(\"You are welcome\")\n",
    "    break"
   ]
  }
 ],
 "metadata": {
  "kernelspec": {
   "display_name": "Python 3",
   "language": "python",
   "name": "python3"
  },
  "language_info": {
   "codemirror_mode": {
    "name": "ipython",
    "version": 3
   },
   "file_extension": ".py",
   "mimetype": "text/x-python",
   "name": "python",
   "nbconvert_exporter": "python",
   "pygments_lexer": "ipython3",
   "version": "3.8.3"
  }
 },
 "nbformat": 4,
 "nbformat_minor": 5
}
