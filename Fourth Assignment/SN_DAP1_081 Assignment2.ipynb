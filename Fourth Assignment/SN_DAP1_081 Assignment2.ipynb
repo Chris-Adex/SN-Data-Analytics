{
 "cells": [
  {
   "cell_type": "code",
   "execution_count": 23,
   "metadata": {},
   "outputs": [
    {
     "name": "stdout",
     "output_type": "stream",
     "text": [
      "{'Man City': None, 'Man Utd': None, 'Liverpool': None, 'Chelsea': None}\n",
      "{'Man City': 'top 4', 'Man Utd': 'top 4', 'Liverpool': 'top 4', 'Chelsea': 'top 4'}\n",
      "{'Man City': 'big 4', 'Man Utd': 'big 4', 'Liverpool': 'big 4', 'Chelsea': 'big 4'}\n"
     ]
    }
   ],
   "source": [
    "# fromkeys()\n",
    "    \n",
    "epl_clubs = [\"Man City\", \"Man Utd\", \"Liverpool\", \"Chelsea\"]\n",
    "print(dict.fromkeys(epl_clubs))\n",
    "\n",
    "club_position = dict.fromkeys(epl_clubs, \"top 4\") \n",
    "print(club_position)\n",
    "\n",
    "position = \"big 4\"\n",
    "print(dict.fromkeys(epl_clubs, position))\n"
   ]
  },
  {
   "cell_type": "code",
   "execution_count": 24,
   "metadata": {},
   "outputs": [
    {
     "name": "stdout",
     "output_type": "stream",
     "text": [
      "Chelsea\n",
      "Chelsea\n",
      "\n",
      "None\n",
      "Bayern Munich\n",
      "{'UCL': 'Chelsea', 'UEL': 'Villareal', 'EPL': 'Man City', 'La liga': 'A Madrid', 'SerieA': 'Inter Milan'}\n"
     ]
    }
   ],
   "source": [
    "# get()\n",
    "cup_winners = {\n",
    "    \"UCL\": \"Chelsea\",\n",
    "    \"UEL\": \"Villareal\",\n",
    "    \"EPL\": \"Man City\", \n",
    "    \"La liga\": \"A Madrid\",\n",
    "    \"SerieA\": \"Inter Milan\"\n",
    "}\n",
    "\n",
    "print(cup_winners.get(\"UCL\"))\n",
    "print(cup_winners.get(\"UCL\", \"Unknown\"))\n",
    "\n",
    "print()\n",
    "\n",
    "print(cup_winners.get(\"Bundesliga\"))  \n",
    "print(cup_winners.get(\"Bundesliga\", \"Bayern Munich\"))            \n",
    "\n",
    "print(cup_winners)\n",
    "               "
   ]
  },
  {
   "cell_type": "code",
   "execution_count": 25,
   "metadata": {},
   "outputs": [
    {
     "name": "stdout",
     "output_type": "stream",
     "text": [
      "dict_items([('UCL', 'Chelsea'), ('UEL', 'Villareal'), ('EPL', 'Man City'), ('La liga', 'A Madrid'), ('SerieA', 'Inter Milan')])\n",
      "[('UCL', 'Chelsea'), ('UEL', 'Villareal'), ('EPL', 'Man City'), ('La liga', 'A Madrid'), ('SerieA', 'Inter Milan')]\n",
      "\n",
      "Chelsea won the UCL trophy\n",
      "Villareal won the UEL trophy\n",
      "Man City won the EPL trophy\n",
      "A Madrid won the La liga trophy\n",
      "Inter Milan won the SerieA trophy\n"
     ]
    }
   ],
   "source": [
    "# items()\n",
    "cup_winners = {\n",
    "    \"UCL\": \"Chelsea\",\n",
    "    \"UEL\": \"Villareal\",\n",
    "    \"EPL\": \"Man City\", \n",
    "    \"La liga\": \"A Madrid\",\n",
    "    \"SerieA\": \"Inter Milan\"\n",
    "}\n",
    "\n",
    "print(cup_winners.items())\n",
    "print(list(cup_winners.items()))\n",
    "\n",
    "print()\n",
    "\n",
    "for cup, club in cup_winners.items():\n",
    "    print(f\"{club} won the {cup} trophy\")"
   ]
  },
  {
   "cell_type": "code",
   "execution_count": 26,
   "metadata": {},
   "outputs": [
    {
     "name": "stdout",
     "output_type": "stream",
     "text": [
      "dict_keys(['UCL', 'UEL', 'EPL', 'La liga', 'SerieA'])\n",
      "\n",
      "['UCL', 'UEL', 'EPL', 'La liga', 'SerieA']\n",
      "\n",
      "UCL is a prestigious trophy\n",
      "UEL is a prestigious trophy\n",
      "EPL is a prestigious trophy\n",
      "La liga is a prestigious trophy\n",
      "SerieA is a prestigious trophy\n"
     ]
    }
   ],
   "source": [
    "# keys()\n",
    "# still using the cup_winners dictionary above\n",
    "print(cup_winners.keys())\n",
    "\n",
    "print()\n",
    "\n",
    "print(list(cup_winners.keys()))\n",
    "\n",
    "print()\n",
    "\n",
    "for cup in cup_winners.keys():\n",
    "    print(f\"{cup} is a prestigious trophy\")"
   ]
  },
  {
   "cell_type": "code",
   "execution_count": 27,
   "metadata": {},
   "outputs": [
    {
     "name": "stdout",
     "output_type": "stream",
     "text": [
      "Ikeja\n",
      "{'Osun': 'Osogbo', 'Oyo': 'Ibadan', 'Kogi': 'Lokoja', 'Borno': 'Maiduguri'}\n",
      "\n",
      "Lokoja\n",
      "{'Osun': 'Osogbo', 'Oyo': 'Ibadan', 'Borno': 'Maiduguri'}\n",
      "\n",
      "Obajana\n",
      "{'Osun': 'Osogbo', 'Oyo': 'Ibadan', 'Borno': 'Maiduguri'}\n"
     ]
    }
   ],
   "source": [
    "#pop()\n",
    "states_and_capitals = {\n",
    "    \"Osun\": \"Osogbo\",\n",
    "    \"Oyo\": \"Ibadan\",\n",
    "    \"Lagos\": \"Ikeja\",\n",
    "    \"Kogi\": \"Lokoja\",\n",
    "    \"Borno\": \"Maiduguri\"\n",
    "}\n",
    "\n",
    "print(states_and_capitals.pop(\"Lagos\"))\n",
    "print(states_and_capitals)\n",
    "\n",
    "print()\n",
    "\n",
    "print(states_and_capitals.pop(\"Kogi\", \"Giade\"))\n",
    "print(states_and_capitals)\n",
    "\n",
    "print()\n",
    "\n",
    "print(states_and_capitals.pop(\"Ondo\", \"Obajana\"))\n",
    "print(states_and_capitals)"
   ]
  },
  {
   "cell_type": "code",
   "execution_count": 29,
   "metadata": {},
   "outputs": [
    {
     "name": "stdout",
     "output_type": "stream",
     "text": [
      "('Prison Break', 2006)\n",
      "{'GOT': 2010, 'Merlin': 2008}\n"
     ]
    }
   ],
   "source": [
    "# popitem()\n",
    "tv_shows = {\n",
    "    \"GOT\": 2010,\n",
    "    \"Merlin\": 2008,\n",
    "    \"Prison Break\": 2006  \n",
    "}\n",
    "\n",
    "item = tv_shows.popitem()\n",
    "print(item)\n",
    "print(tv_shows) "
   ]
  },
  {
   "cell_type": "code",
   "execution_count": 30,
   "metadata": {},
   "outputs": [
    {
     "name": "stdout",
     "output_type": "stream",
     "text": [
      "418\n",
      "{'Discovery ID': 171, 'SS Premierleague': 203, 'TVC News': 418}\n",
      "\n",
      "421\n",
      "{'Discovery ID': 171, 'SS Premierleague': 203, 'TVC News': 418, 'Arise News': 421}\n",
      "\n",
      "None\n",
      "{'Discovery ID': 171, 'SS Premierleague': 203, 'TVC News': 418, 'Arise News': 421, 'AM Yoruba': None}\n"
     ]
    }
   ],
   "source": [
    "# setdefault()\n",
    "dstv_channels = {\n",
    "    \"Discovery ID\": 171,\n",
    "    \"SS Premierleague\": 203,\n",
    "    \"TVC News\": 418\n",
    "}\n",
    "\n",
    "print(dstv_channels.setdefault(\"TVC News\", 420))\n",
    "print(dstv_channels)\n",
    "\n",
    "print()\n",
    "\n",
    "print(dstv_channels.setdefault(\"Arise News\", 421))\n",
    "print(dstv_channels)\n",
    "\n",
    "print()\n",
    "\n",
    "print(dstv_channels.setdefault(\"AM Yoruba\"))\n",
    "print(dstv_channels)"
   ]
  },
  {
   "cell_type": "code",
   "execution_count": 31,
   "metadata": {},
   "outputs": [
    {
     "name": "stdout",
     "output_type": "stream",
     "text": [
      "{'Coke': 170, 'Bread': 300, 'Table Water': 650, 'Fanta': 170}\n",
      "\n",
      "The updated price of Coke is 170\n",
      "The updated price of Bread is 300\n",
      "The updated price of Table Water is 650\n",
      "The updated price of Fanta is 170\n",
      "\n",
      "{'Coke': 170, 'Bread': 300, 'Fanta': 170}\n"
     ]
    }
   ],
   "source": [
    "# update()\n",
    "price_of_items = {\n",
    "    \"Coke\": 120,\n",
    "    \"Bread\": 250,\n",
    "    \"Table Water\": 650\n",
    "}\n",
    "\n",
    "new_price_list = {\n",
    "    \"Coke\": 170,\n",
    "    \"Bread\": 300,\n",
    "    \"Fanta\": 170,\n",
    "}\n",
    "\n",
    "price_of_items.update(new_price_list)\n",
    "print(price_of_items)\n",
    "\n",
    "print()\n",
    "\n",
    "for item, price in price_of_items.items():\n",
    "    print(f\"The updated price of {item} is {price}\")\n",
    "\n",
    "print()\n",
    "\n",
    "print(new_price_list)\n",
    "# new_price_list remains unchanged"
   ]
  },
  {
   "cell_type": "code",
   "execution_count": 32,
   "metadata": {},
   "outputs": [
    {
     "name": "stdout",
     "output_type": "stream",
     "text": [
      "dict_values([1, 2, 3, 4])\n",
      "[1, 2, 3, 4]\n",
      "\n",
      "1 is a value in the dict\n",
      "2 is a value in the dict\n",
      "3 is a value in the dict\n",
      "4 is a value in the dict\n"
     ]
    }
   ],
   "source": [
    "# values()\n",
    "alphabets = {\"a\": 1, \"b\": 2, \"c\": 3, \"d\": 4}\n",
    "print(alphabets.values())\n",
    "print(list(alphabets.values()))\n",
    "\n",
    "print()\n",
    "\n",
    "for value in alphabets.values():\n",
    "    print(f\"{value} is a value in the dict\")"
   ]
  },
  {
   "cell_type": "code",
   "execution_count": 33,
   "metadata": {},
   "outputs": [
    {
     "name": "stdout",
     "output_type": "stream",
     "text": [
      "['apple', 'apple1', 'apple2', 'apple3', 'apple4']\n",
      "['apple1', 'apple2', 'apple3', 'apple4']\n"
     ]
    }
   ],
   "source": [
    "fruit = [\"apple\"]\n",
    "apple = [\"apple1\", \"apple2\", \"apple3\", \"apple4\"]\n",
    "for a in apple:\n",
    "    fruit.append(a)\n",
    "print(fruit)\n",
    "\n",
    "print(apple)\n",
    "#apple list remains unchanged"
   ]
  }
 ],
 "metadata": {
  "kernelspec": {
   "display_name": "Python 3",
   "language": "python",
   "name": "python3"
  },
  "language_info": {
   "codemirror_mode": {
    "name": "ipython",
    "version": 3
   },
   "file_extension": ".py",
   "mimetype": "text/x-python",
   "name": "python",
   "nbconvert_exporter": "python",
   "pygments_lexer": "ipython3",
   "version": "3.8.5"
  }
 },
 "nbformat": 4,
 "nbformat_minor": 5
}
