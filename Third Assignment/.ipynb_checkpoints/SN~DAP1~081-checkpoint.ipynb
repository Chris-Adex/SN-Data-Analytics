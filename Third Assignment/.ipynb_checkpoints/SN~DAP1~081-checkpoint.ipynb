{
 "cells": [
  {
   "cell_type": "markdown",
   "metadata": {},
   "source": [
    "## String Methods"
   ]
  },
  {
   "cell_type": "markdown",
   "metadata": {},
   "source": [
    "1. **capitalize():** converts the first character of a string to uppercase(capital letter) and the remaining characters to lowercase(small letter). This method accepts no parameters.\n",
    "\n",
    "    **Syntax:** `string.capitalize()` \n",
    "\n",
    "    **Use Case:** To format texts."
   ]
  },
  {
   "cell_type": "code",
   "execution_count": 5,
   "metadata": {},
   "outputs": [
    {
     "name": "stdout",
     "output_type": "stream",
     "text": [
      "Adediran\n",
      "Christopher\n"
     ]
    }
   ],
   "source": [
    "# returns a converted copy of the string.\n",
    "name = \"ADEDIRAN\"\n",
    "name = name.capitalize()\n",
    "print(name)\n",
    "\n",
    "user = \"christopher\"\n",
    "print(user.capitalize())"
   ]
  },
  {
   "cell_type": "markdown",
   "metadata": {},
   "source": [
    "2. **lower():** converts all the characters of a string to lowercase and returns a copy of the converted string. This method accepts no parameters.  \n",
    "   \n",
    "    **Syntax:** `string.lower()`\n",
    "\n",
    "    **Use Case:** To always convert texts or strings to lowercase."
   ]
  },
  {
   "cell_type": "code",
   "execution_count": 6,
   "metadata": {},
   "outputs": [
    {
     "name": "stdout",
     "output_type": "stream",
     "text": [
      "adediranchristopher98@gmail.com\n"
     ]
    }
   ],
   "source": [
    "emailAddress = \"ADEDIRANCHRISTOPHER98@GMAIL.COM\"\n",
    "emailAddress = emailAddress.lower()\n",
    "print(emailAddress)"
   ]
  },
  {
   "cell_type": "markdown",
   "metadata": {},
   "source": [
    "3. **count():** This method returns the number of occurrences of a substring in a string.\n",
    "\n",
    "    **Syntax:** `string.count(substring, start, end)`\n",
    "    \n",
    "    **Parameters:** This method accepts three parameters(one required, two optional) but it only requires one parameter to execute.\n",
    "    - **substring(required):** string whose count is to be returned \n",
    "    - **start(optional):** starting index(inclusive) to start the search within the string\n",
    "    - **end(optional):** ending index(exclusive) to stop the search within the string  \n",
    "    \n",
    "\n",
    "   **Use Case:** To count the number of specified letters, words, phrases and keywords in texts or codes etc."
   ]
  },
  {
   "cell_type": "code",
   "execution_count": 7,
   "metadata": {},
   "outputs": [
    {
     "name": "stdout",
     "output_type": "stream",
     "text": [
      "10\n",
      "3\n"
     ]
    }
   ],
   "source": [
    "# counting without start and end.\n",
    "string = \"Lionel Andres Messi is the greatest footballer of all time.Argue with your keyboard\"\n",
    "substring = \"e\"\n",
    "firstCount = string.count(substring)\n",
    "print(firstCount)\n",
    "\n",
    "# counting with start and end.\n",
    "secondCount = string.count(substring, 15, 32) \n",
    "print(secondCount)"
   ]
  },
  {
   "cell_type": "markdown",
   "metadata": {},
   "source": [
    "4. **isalnum():** returns True if the string consists of only letters and numeric characters and is not blank(i.e does not contain space). It returns False if one of the characters in the string is not alphanumeric. This method does not accept any parameters.\n",
    "\n",
    "    **Syntax:** `string.isalnum()`\n",
    "\n",
    "    **Use Case:** To check if a variable contains only alphabets and numbers without spaces or special characters(e.g #, !, /, \\, &. etc)"
   ]
  },
  {
   "cell_type": "code",
   "execution_count": 8,
   "metadata": {},
   "outputs": [
    {
     "name": "stdout",
     "output_type": "stream",
     "text": [
      "True\n",
      "False\n",
      "False\n",
      "True\n",
      "True\n"
     ]
    }
   ],
   "source": [
    "# containing no space returns True\n",
    "username = \"Chris1234\"\n",
    "print(username.isalnum()) \n",
    "\n",
    "# containing space returns False\n",
    "username2 = \"Chris 1234\"\n",
    "print(username2.isalnum())\n",
    "\n",
    "# containing special characters returns False \n",
    "username3 = \"Chris_1234!#\"\n",
    "print(username3.isalnum())\n",
    "\n",
    "# containing only alphabets returns True\n",
    "username4 = \"Chris\"\n",
    "print(username4.isalnum())\n",
    "\n",
    "# containing only numbers returns True\n",
    "username5 = \"1234\"\n",
    "print(username5.isalnum())"
   ]
  },
  {
   "cell_type": "markdown",
   "metadata": {},
   "source": [
    "5. **isnumeric():** returns True if all characters in a string are numeric characters and returns False if one of the characters is not numeric. This method accepts no parameters.\n",
    "    - Numeric characters in Python include: decimal characters (0-9), digits (like subscript, superscript) and characters having Unicode numeric value property (like: fraction, roman numerals, currency numerators).  \n",
    "    \n",
    "   **Syntax:** `string.isnumeric()`\n",
    "    \n",
    "   **Use Case:** To check if an input is numeric."
   ]
  },
  {
   "cell_type": "code",
   "execution_count": 9,
   "metadata": {},
   "outputs": [
    {
     "name": "stdout",
     "output_type": "stream",
     "text": [
      "True\n",
      "True\n"
     ]
    },
    {
     "name": "stdin",
     "output_type": "stream",
     "text": [
      "Enter Your Age: 24\n"
     ]
    },
    {
     "name": "stdout",
     "output_type": "stream",
     "text": [
      "True\n"
     ]
    }
   ],
   "source": [
    "# n = ¼ (\"\\u00BC\" is the unicode value for ¼) \n",
    "n = \"\\u00BC\" \n",
    "print(n.isnumeric())\n",
    "\n",
    "# \"³\" is a superscript\n",
    "m = \"³\"\n",
    "print(m.isnumeric())\n",
    "\n",
    "userAge = input(\"Enter Your Age:\") \n",
    "print(userAge.isnumeric()) "
   ]
  },
  {
   "cell_type": "markdown",
   "metadata": {},
   "source": [
    "6. **index():** returns the index(position) of the first occurence of a substring inside a string. If the substring is not present in the string, it returns a valueError.\n",
    "\n",
    "    **Syntax:** `string.index(substring, start, end)`\n",
    "\n",
    "    **Parameters:** This method accepts three parameters but requires only one to execute.\n",
    "    - **substring(required):** string(characters) whose count is to be returned \n",
    "    - **start(optional):** starting index(inclusive) to start the search within the string \n",
    "    - **end(optional):** ending index(exclusive) to stop the search within the string\n",
    "    \n",
    "    \n",
    "   **find():** this method is similar to the index() method but it returns a \"-1\" value if the substring is not present in the string.\n",
    "   \n",
    "   **Syntax:** `string.find(substring, start, end)`\n",
    "\n",
    "   **Use Case:** To locate first occurence of alphabets or words in strings or texts.\n"
   ]
  },
  {
   "cell_type": "code",
   "execution_count": 195,
   "metadata": {},
   "outputs": [
    {
     "name": "stdout",
     "output_type": "stream",
     "text": [
      "5\n",
      "11\n"
     ]
    },
    {
     "ename": "ValueError",
     "evalue": "substring not found",
     "output_type": "error",
     "traceback": [
      "\u001b[0;31m---------------------------------------------------------------------------\u001b[0m",
      "\u001b[0;31mValueError\u001b[0m                                Traceback (most recent call last)",
      "\u001b[0;32m<ipython-input-195-8b2fa25b1270>\u001b[0m in \u001b[0;36m<module>\u001b[0;34m\u001b[0m\n\u001b[1;32m      8\u001b[0m \u001b[0;34m\u001b[0m\u001b[0m\n\u001b[1;32m      9\u001b[0m \u001b[0;31m# This returns a valueError\u001b[0m\u001b[0;34m\u001b[0m\u001b[0;34m\u001b[0m\u001b[0;34m\u001b[0m\u001b[0m\n\u001b[0;32m---> 10\u001b[0;31m \u001b[0mprint\u001b[0m\u001b[0;34m(\u001b[0m\u001b[0mopinion\u001b[0m\u001b[0;34m.\u001b[0m\u001b[0mindex\u001b[0m\u001b[0;34m(\u001b[0m\u001b[0;34m\"q\"\u001b[0m\u001b[0;34m)\u001b[0m\u001b[0;34m)\u001b[0m\u001b[0;34m\u001b[0m\u001b[0;34m\u001b[0m\u001b[0m\n\u001b[0m",
      "\u001b[0;31mValueError\u001b[0m: substring not found"
     ]
    }
   ],
   "source": [
    "# Using index() method\n",
    "# without starting and ending index\n",
    "opinion = \"Python is one of the most popular programming languages\"\n",
    "print(opinion.index(\"n\"))\n",
    "\n",
    "# with starting and ending index\n",
    "print(opinion.index(\"n\", 6, 20))\n",
    "\n",
    "# This returns a valueError\n",
    "print(opinion.index(\"q\"))"
   ]
  },
  {
   "cell_type": "code",
   "execution_count": null,
   "metadata": {},
   "outputs": [],
   "source": [
    "# Using find() method\n",
    "# without starting and ending index\n",
    "opinion = \"Python is one of the most popular programming languages\"\n",
    "print(opinion.find(\"n\"))\n",
    "\n",
    "# with starting and ending index\n",
    "print(opinion.find(\"n\", 6, 20))\n",
    "\n",
    "# returns -1\n",
    "print(opinion.find(\"q\"))"
   ]
  },
  {
   "cell_type": "markdown",
   "metadata": {},
   "source": [
    "7. **replace():** returns a copy of the string where all occurences of a specified substring is replaced with another substring unless if specified otherwise.  \n",
    "\n",
    "   **Syntax:** `string.replace(old, new, count)`\n",
    "\n",
    "   **Parameters:** This method accepts three parameters but only two is required to execute.\n",
    "\n",
    "    - **old(required):** old substring to be replaced  \n",
    "    - **new(required):** new substring to replace old substring  \n",
    "    - **count(optional):** number showing the occurrences of old substring to be replaced by new substring. Default is all occurrences. \n",
    "    \n",
    "   \n",
    "   **Use Case:** To replace specified characters, words, or phrases in a string or text.\n"
   ]
  },
  {
   "cell_type": "code",
   "execution_count": null,
   "metadata": {},
   "outputs": [],
   "source": [
    "# replacing without count\n",
    "txt =  \"\"\"one ring to rule them all, \n",
    "one ring to find them, \n",
    "one ring to bring them all \n",
    "and in the darkness bind them.\"\"\"\n",
    "\n",
    "print(txt.replace(\"one\", \"seven\")) \n",
    "\n",
    "print()\n",
    "\n",
    "# replacing with count\n",
    "print(txt.replace(\"one\", \"seven\", 2))\n",
    "# replaces \"one\" twice in the string"
   ]
  },
  {
   "cell_type": "markdown",
   "metadata": {},
   "source": [
    "8. **expandtabs():** returns a copy of string with the tab size( number of spaces) replaced with the specified number of  whitespace characters.  It specifies the amount of space to be substituted with the “\\t” symbol in the string.\n",
    "\n",
    "   **Syntax:** `string.expandtabs(tabsize)`\n",
    "\n",
    "   **Parameters:** This method accepts one parameter\n",
    "    - **tabsize(optional):** An integer specifying the tab size. Default is 8.\n",
    "    \n",
    "\n",
    "   **Use Case:** To format texts or documents."
   ]
  },
  {
   "cell_type": "code",
   "execution_count": null,
   "metadata": {},
   "outputs": [],
   "source": [
    "text = \"Hello,\\tI am fine.\\tThank you.\"\n",
    "print(\"tabsize = 8:\", text.expandtabs())\n",
    "\n",
    "print()\n",
    "\n",
    "print(\"tabsize = 2:\", text.expandtabs(2))\n",
    "\n",
    "print()\n",
    "\n",
    "print(\"tabsize = 3:\", text.expandtabs(3))\n",
    "\n",
    "print()\n",
    "\n",
    "print(\"tabsize = 4:\", text.expandtabs(4))"
   ]
  },
  {
   "cell_type": "markdown",
   "metadata": {},
   "source": [
    "9. **ljust():** returns a left-justified copy of the string and uses a specified character as the fill character. This method accepts two parameters.\n",
    "\n",
    "   **Syntax:** `string.ljust(length,fillchar)`\n",
    "\n",
    "   **Parameters:** \n",
    "    - **length(required):** length of the returned string. If length <= len(string), copy of the string is returned.\n",
    "    - **fillchar(optional):** character to fill the remaining space of the length (to the right of the string) if length > len(string). Default is space(\"\").\n",
    "\n",
    "\n",
    "   **rjust():** This method is thesame as the ljust() method but returns a right-justified copy of the string.\n",
    "   \n",
    "   **Syntax:** `string.rjust(length,fillchar)` \n",
    "   \n",
    "   **center():** This method returns a centre-justified copy of the string.\n",
    "   \n",
    "   **Syntax:** `string.center(length,fillchar)` \n",
    "   \n",
    "   **Use Case:** To align texts"
   ]
  },
  {
   "cell_type": "code",
   "execution_count": null,
   "metadata": {},
   "outputs": [],
   "source": [
    "# left justified without fillchar\n",
    "dogBreed = \"Belgian Malinois\"\n",
    "print(dogBreed.ljust(20))\n",
    "\n",
    "print()\n",
    "\n",
    "# left justified with fillchar\n",
    "dogBreed = \"Belgian Malinois\"\n",
    "print(dogBreed.ljust(20,\"*\"))"
   ]
  },
  {
   "cell_type": "code",
   "execution_count": null,
   "metadata": {},
   "outputs": [],
   "source": [
    "# right justified without fillchar\n",
    "dogBreed = \"Belgian Malinois\"\n",
    "print(dogBreed.rjust(20))\n",
    "\n",
    "print() \n",
    "\n",
    "# right justified with fillchar\n",
    "dogBreed = \"Belgian Malinois\"\n",
    "print(dogBreed.rjust(20,\"#\"))"
   ]
  },
  {
   "cell_type": "code",
   "execution_count": null,
   "metadata": {},
   "outputs": [],
   "source": [
    "# centre justified without fillchar\n",
    "dogBreed = \"Belgian Malinois\"\n",
    "print(dogBreed.center(20))\n",
    "\n",
    "print() \n",
    "\n",
    "# centre justified with fillchar\n",
    "dogBreed = \"Belgian Malinois\"\n",
    "print(dogBreed.center(20,\"#\"))"
   ]
  },
  {
   "cell_type": "markdown",
   "metadata": {},
   "source": [
    "10. **encode():** returns an encoded version of the string using the specified encodings accepted by python. Default encoding is UTF-8. \n",
    "\n",
    "    **Syntax:** `string.encode(encoding, errors)`\n",
    "\n",
    "    **Parameters:** This method accepts two parameters but requires none to execute.\n",
    "    - **encoding(optional):** the encoding type a string has to be encoded to. Default is UTF-8.\n",
    "    - **errors(optional):** decides how to handle the errors if they occur. Default is \"strict\". There are six types of error response:\n",
    "    \n",
    "        a. strict - default response which raises a UnicodeDecodeError exception on failure   \n",
    "        b. ignore - ignores the unencodable unicode from the result    \n",
    "        c. replace - replaces the unencodable unicode to a question mark (?)  \n",
    "        d. xmlcharrefreplace - inserts XML character reference instead of unencodable unicode   \n",
    "        e. backslashreplace - inserts a \\uNNNN escape sequence instead of unencodable unicode    \n",
    "        f. namereplace - inserts a \\N{...} escape sequence instead of unencodable unicode  \n",
    "        \n",
    "    **Use Case:** To encode texts, passwords, keywords or sensitive informations.\n"
   ]
  },
  {
   "cell_type": "code",
   "execution_count": null,
   "metadata": {},
   "outputs": [],
   "source": [
    "key = \"ßooķïñg\"\n",
    "\n",
    "# automatically encodes to UTF-8\n",
    "print(key.encode())\n",
    "\n",
    "print()\n",
    "\n",
    "print(key.encode(\"macintosh\", \"ignore\"))\n",
    "print(key.encode(\"macintosh\", \"replace\"))\n",
    "print(key.encode(\"macintosh\", \"xmlcharrefreplace\"))\n",
    "print(key.encode(\"macintosh\", \"backslashreplace\"))\n",
    "print(key.encode(\"macintosh\", \"namereplace\"))"
   ]
  },
  {
   "cell_type": "markdown",
   "metadata": {},
   "source": [
    "11. **strip():** returns a copy of the string with both leading(left-hand size) and trailing(right-hand size) characters stripped. \n",
    "\n",
    "    **Syntax:** `string.strip(characters)`\n",
    "    \n",
    "    **Parameters:** This method accepts a single parameter but does not require it to execute.\n",
    "    - **characters(optional):** specified set of characters to be removed from the left and right part of the string.\n",
    "\n",
    "    If the character argument is not provided, all leading and trailing whitespaces are removed from the string.\n",
    "\n",
    "    **Use Case:** To remove unwanted characters from texts or data sets."
   ]
  },
  {
   "cell_type": "code",
   "execution_count": 3,
   "metadata": {},
   "outputs": [
    {
     "name": "stdout",
     "output_type": "stream",
     "text": [
      ".,, money, .made, man,. mad ...,,\n",
      "ney, .made, man\n"
     ]
    }
   ],
   "source": [
    "txts = \"  .,, money, .made, man,. mad ...,,  \"\n",
    "# removes only white spaces at the beginning and end of the string\n",
    "print(txts.strip()) \n",
    "\n",
    "# removes all occurences of the individual characters at the beginning and end ofthe string\n",
    "print(txts.strip(\"amdo,. \"))\n"
   ]
  },
  {
   "cell_type": "markdown",
   "metadata": {},
   "source": [
    "12. **endswith():** returns True if a string ends with the specified suffix. If not, it returns False.\n",
    "\n",
    "    **Syntax:** `string.endswith(suffix, start, end)`\n",
    "    \n",
    "    **Parameters:** This method accepts three parameters but requires only one to execute\n",
    "     - **suffix(required):** string or tuple of suffixes to be checked\n",
    "     - **start(optional):** starting index where suffix is to be checked within the string.\n",
    "     - **end(optional):** ending index where suffix is to be checked within the string.\n",
    "     \n",
    "    **Use Case:** To check if a string ends with a specified suffix"
   ]
  },
  {
   "cell_type": "code",
   "execution_count": 199,
   "metadata": {},
   "outputs": [
    {
     "name": "stdout",
     "output_type": "stream",
     "text": [
      "True\n",
      "False\n",
      "\n",
      "True\n",
      "False\n",
      "\n",
      "False\n",
      "True\n"
     ]
    }
   ],
   "source": [
    "fact = \"Mount Everest is the highest mountain in the World\"\n",
    "# without starting and ending i n dex\n",
    "print(fact.endswith(\"World\"))\n",
    "print(fact.endswith(\"world\"))\n",
    "\n",
    "print() \n",
    "\n",
    "# If a string endswith a substring from a tuple,\n",
    "# it returns True and if otherwise returns False\n",
    "key = (\"hill\", \"plateau\", \"World\")\n",
    "print(fact.endswith(key))\n",
    "\n",
    "key2 = (\"fold\", \"Curve\", \"world\")\n",
    "print(fact.endswith(key2))\n",
    "\n",
    "print()\n",
    "\n",
    "# with starting and ending index\n",
    "print(fact.endswith(\"World\", 1, 20))\n",
    "print(fact.endswith(\"is\", 1, 16))"
   ]
  },
  {
   "cell_type": "markdown",
   "metadata": {},
   "source": [
    "13. **rfind():** returns the highest index of a specified substring if found in given string. If not found then it returns -1. \n",
    "\n",
    "    **Syntax:** `string.rfind(substring, start, end)`\n",
    "    \n",
    "    **Parameters:** This method accepts three parameters but requires only one to execute.\n",
    "    - **substring(required):** string(characters) whose index is to be returned \n",
    "    - **start(optional):** starting index(inclusive) to start the search within the string \n",
    "    - **end(optional):** ending index(exclusive) to stop the search within the string  \n",
    "    \n",
    "    **Use Case:** To find or locate the last occurrence of characters, keywords in texts."
   ]
  },
  {
   "cell_type": "code",
   "execution_count": null,
   "metadata": {},
   "outputs": [],
   "source": [
    "word = \"This is a good time to be alive, is it not? Yes, it is.\"\n",
    "# without start and end\n",
    "print(word.rfind(\"is\")) \n",
    "print(word.rfind(\"it\"))\n",
    "\n",
    "print()\n",
    "\n",
    "# with start and end\n",
    "print(word.rfind(\"is\", 1, 10))\n",
    "print(word.rfind(\"it\", 1, 10))\n",
    "\n",
    "print()\n",
    "print(word.rfind(\"ist\"))"
   ]
  },
  {
   "cell_type": "markdown",
   "metadata": {},
   "source": [
    "14. **title():** returns a copy of the string with the first letter of each word is capitalized (provided the first character is alphabet). This method accepts no parameters.\n",
    "\n",
    "    **Syntax:** `string.title()`\n",
    "\n",
    "    **Use Case:** To edit texts or strings to titlecased"
   ]
  },
  {
   "cell_type": "code",
   "execution_count": null,
   "metadata": {},
   "outputs": [],
   "source": [
    "text = \"How to train your dragon\"\n",
    "print(text.title())\n",
    "\n",
    "txt = \"12345 is simple as ABC\" \n",
    "print(txt.title())\n",
    "\n",
    "# limitation for this method: It capitalizes the letter after an apostrophe\n",
    "txt = \"A beginner's guide to python\"\n",
    "print(txt.title())"
   ]
  },
  {
   "cell_type": "markdown",
   "metadata": {},
   "source": [
    "15. **upper():** This method converts all lowercase characters in a string to uppercase characters(capital letter) and returns the converted copy ofthe string. This method accepts no parameters.\n",
    "\n",
    "    **Syntax:** `string.upper()`\n",
    "\n",
    "    **Use Case:** To format texts to uppercase. "
   ]
  },
  {
   "cell_type": "code",
   "execution_count": 200,
   "metadata": {},
   "outputs": [
    {
     "name": "stdout",
     "output_type": "stream",
     "text": [
      "OLADIPO ADEDIRAN\n",
      "ADEDIRAN1234\n"
     ]
    }
   ],
   "source": [
    "myName = \"Oladipo Adediran\"\n",
    "print(myName.upper())\n",
    "\n",
    "myUsername = \"Adediran1234\"\n",
    "print(myUsername.upper())"
   ]
  }
 ],
 "metadata": {
  "kernelspec": {
   "display_name": "Python 3",
   "language": "python",
   "name": "python3"
  },
  "language_info": {
   "codemirror_mode": {
    "name": "ipython",
    "version": 3
   },
   "file_extension": ".py",
   "mimetype": "text/x-python",
   "name": "python",
   "nbconvert_exporter": "python",
   "pygments_lexer": "ipython3",
   "version": "3.8.5"
  }
 },
 "nbformat": 4,
 "nbformat_minor": 5
}
